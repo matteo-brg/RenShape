{
 "cells": [
  {
   "cell_type": "code",
   "execution_count": 1,
   "id": "2135f163",
   "metadata": {},
   "outputs": [],
   "source": [
    "import numpy as np\n",
    "from rw import lazy_handler\n",
    "import matplotlib.pyplot as plt"
   ]
  },
  {
   "cell_type": "markdown",
   "id": "8e7d14a4",
   "metadata": {},
   "source": [
    "# RenShape"
   ]
  },
  {
   "cell_type": "markdown",
   "id": "71634792",
   "metadata": {},
   "source": [
    "**RenShape** is a tool for evaluating the antineutrino spectrum from reactors using the summation method.\n",
    "\n",
    "The data for evaluating the total antineutrino spectrum are taken from various databases: \n",
    "- cumulative fission yields from JEFF\n",
    "- decay data from ENDF-B sub-library and ENSDF\n",
    "- Q-values from ENSDF\n",
    "\n",
    "A new database is created by merging all the relevant information into a single file. To evaluate the neutrino spectra, the decay data are processed with **BetaShape**. The resulting database (HDF5 file format) is manteined and updated periodically. The latest version (October 2024) is called \"verza.lazy\". \n",
    "\n",
    "You can find all the data used to create this file, along with the database itself, on the following link:\n",
    "\n",
    "You may choose to create your own database using RenShape by launching the script *createLazyFile.py* (see instruction in RenShape/scripts/README.md), or you can simply use the precompiled file available on Zenodo."
   ]
  },
  {
   "cell_type": "markdown",
   "id": "19994109",
   "metadata": {
    "heading_collapsed": true
   },
   "source": [
    "### How is compiled"
   ]
  },
  {
   "cell_type": "markdown",
   "id": "6e7514df",
   "metadata": {
    "hidden": true
   },
   "source": [
    "The dataset is populated by following these steps (as outlined in scripts/createLazy.py):\n",
    "\n",
    "1) The nuclides with cumulative fission yields (cfy) greater than zero are recorded. The cfy are taken from JEFF.\n",
    "\n",
    "2) For these nuclides, the Q value (and half life) are written. The data are taken from ENSDF.\n",
    "\n",
    "3) For these nuclides, their neutrino spectra is evaluated using data from ENDF/B sub-library:\n",
    "\n",
    "*In the ENDF/B sub-library, the available data for a nuclide can be of type \"discrete\" or \"continuum\". If former, all the information needed for evaluating the neutrino spectrum is present (end-point energies, transition types, intensity...). If \"continuum\" only the electron(neutrino) spectrum from a CGM calculation is reported.\\\n",
    "If the data are \"discreet\", the neutrino spectra for the nuclide is evaluated using BetaShape. If \"continuum\", the spectrum is saved as-is, but the nuclide is tagged accordingly. Due to the missing information, please treat the \"continuum\" data cum grano salis.*\n",
    "\n",
    "4) Beta-decaying nuclides not present in the ENDF/B sub-library are processed with BetaShape using available data from ENSDF. Additionally, \"continuum\" nuclides are re-processed with BetaShape if data are available in the ENSDF database. In this case, the original \"continuum\" spectrum is saved as a backup (*dN_dE_tot_c*).\n",
    "    "
   ]
  },
  {
   "cell_type": "markdown",
   "id": "d1ee3035",
   "metadata": {
    "heading_collapsed": true
   },
   "source": [
    "### File structure"
   ]
  },
  {
   "cell_type": "markdown",
   "id": "ea853ab7",
   "metadata": {
    "hidden": true
   },
   "source": [
    "The .lazy file is organized as follows: \n",
    "\n",
    "In the *header*, you will find general information about the file. After that, all the nuclides are listed.\n",
    "\n",
    "Each nuclide has its own *data* block, which contains the output from BetaShape, including the\n",
    "binned neutrino spectrum for each transition, the total spectrum, and more. \n",
    "- **transition_Emax:** ndarray with the maximum energy in keV for the transitions\n",
    "- **transition_intensity:** ndarray with the intensity of the transition\n",
    "- **transition_dN_dE:** ndarray with the transition spectra. The i-th row corresponds to the i-th entry of the arrays\n",
    "- **transition_unc_dN_dE:** ndarray with the uncertanties associated with the spectra\n",
    "- **transition_unc_intensity:** ndarray with the uncertanties associated with the intensity of the levels in shorthand notation (sorry).\n",
    "- **dN_dE_tot:** ndarray with the full electron(neutrino) spectrum\n",
    "- **unc_dN_dE** ndarray with the uncertanty associated with dN_dE_tot\n",
    "- **transition_type:** ndarray with type of transition. \"a\" for allowed, \"1u\" for first-forbidden unique, \"1nu\" for first-forbidden non-unique, and so on.\n",
    "- **dN_dE_tot_c:** present only if the spectrum is evaluated with a CGM evaluation and not with BetaShape. If an ENSDF file was found related to that nuclide, dN_dE_tot will be different from dN_dE_tot_c. See \"How is compiled\"\n",
    "\n",
    "In the *info* block, you can find all the information not related to BetaShape, such as the cumulative fission yield for the selected nuclide.\n",
    "- **Q:** Q-value in keV. Taken from ENSDF\n",
    "- **unc_Q:** Q-value uncertainty \n",
    "- **cumulative_fast_fy_#:** cumulative fast fission yield for #, taken from JEFF\n",
    "- **cumulative_thermal_fy_#:** cumulative thermal fission yield for #, taken from JEFF\n",
    "- **unc_cf_#:** uncertainty  for cumulative fast of #\n",
    "- **unc_ct_#:** uncertainty  for cumulative thermal of #\n",
    "- **n:** number of neutrons\n",
    "- **z:** atomic number\n",
    "- **m:** metastable state. 0 is normal, 1 is the first metastable and so on\n",
    "- **half_life_sec:** half-life in sec, taken from ENSDF\n",
    "- **Emax:** present only if the nuclide was processed by BetaShape. Is the neutrino endpoint energy in keV.\n",
    "- **tag:** present only if the nuclide was processed by BetaShape. It tells you where the information for the total neutrino spectrum (dN_dE_tot) was taken. endf_b -> ENDF/B sublibrary. endf_b_c -> ENDF/B sublibrary, without BetaShape (spectrum from a CGM calculation). ensdf -> ENSDF\n",
    "- **lazy_name:** name of the nuclide"
   ]
  },
  {
   "cell_type": "markdown",
   "id": "7fe0c399",
   "metadata": {
    "heading_collapsed": true
   },
   "source": [
    "# RenShape reader"
   ]
  },
  {
   "cell_type": "code",
   "execution_count": 2,
   "id": "0689b0fd",
   "metadata": {
    "hidden": true
   },
   "outputs": [],
   "source": [
    "path = \"\" # path for the .lazy file\n",
    "\n",
    "reader =lazy_handler.LazyReader(path)"
   ]
  },
  {
   "cell_type": "code",
   "execution_count": 3,
   "id": "a7a7fc27",
   "metadata": {
    "hidden": true
   },
   "outputs": [
    {
     "data": {
      "text/plain": [
       "{'Betashape_options': 'myEstep=1 nu=1',\n",
       " 'Betashape_version': '2.4',\n",
       " 'E_step': 1.0,\n",
       " 'JEFF_release': '3.3',\n",
       " 'Release_date': 'oct 2024'}"
      ]
     },
     "execution_count": 3,
     "metadata": {},
     "output_type": "execute_result"
    }
   ],
   "source": [
    "# You can get the file header containing some usefull information as a dictionary\n",
    "# Betashape_options are the option used in betashape to process all the spectra\n",
    "# E_step is the energy step (in keV) for all calculated spectra\n",
    "header = reader.get_info()\n",
    "header"
   ]
  },
  {
   "cell_type": "code",
   "execution_count": 4,
   "id": "76a5a231",
   "metadata": {
    "hidden": true
   },
   "outputs": [
    {
     "name": "stdout",
     "output_type": "stream",
     "text": [
      "100Mo\n",
      "100Nb\n",
      "100Nb_1m\n",
      "100Rb\n",
      "100Ru\n",
      "100Sr\n",
      "100Tc\n",
      "100Y\n",
      "100Y_1m\n",
      "100Zr\n",
      "101Mo\n",
      "101Nb\n",
      "101Rb\n",
      "101Ru\n",
      "101Sr\n",
      "101Tc\n",
      "101Y\n",
      "101Zr\n",
      "102Mo\n",
      "102Nb\n"
     ]
    }
   ],
   "source": [
    "# To get nuclides name present in the database as a list\n",
    "# *_1m is the first metastable state, and so on.\n",
    "nuclides_name = reader.get_nuclides_list()\n",
    "\n",
    "for i in range(20):\n",
    "    print(nuclides_name[i])"
   ]
  },
  {
   "cell_type": "code",
   "execution_count": 7,
   "id": "937737cf",
   "metadata": {
    "hidden": true
   },
   "outputs": [
    {
     "name": "stdout",
     "output_type": "stream",
     "text": [
      "Position of the 100Nb: 1\n",
      "Emax : 6381.0\n",
      "Q : 6396.0\n",
      "cumulative_fast_fy_235u : 0.05632\n",
      "cumulative_fast_fy_238u : 0.063256\n",
      "cumulative_fast_fy_241Pu : 0.053776\n",
      "cumulative_thermal_fy_235u : 0.055398\n",
      "cumulative_thermal_fy_239Pu : 0.050055\n",
      "cumulative_thermal_fy_241Pu : 0.060989\n",
      "half_life_sec : 1.4\n",
      "m : 0.0\n",
      "n : 59.0\n",
      "tag : endf_b\n",
      "unc_Q : 0.8\n",
      "unc_cf_235u : 0.0025637\n",
      "unc_cf_238u : 0.0039918\n",
      "unc_cf_241Pu : 0.001626\n",
      "unc_ct_235u : 0.0010397\n",
      "unc_ct_239Pu : 0.0015307\n",
      "unc_ct_241Pu : 0.004034\n",
      "z : 41.0\n",
      "dN_dE_tot : [0.00000000e+00 1.87019393e-10 6.24190040e-10 ... 1.17794000e-05\n",
      " 1.17441000e-05 1.17089000e-05]\n",
      "transition_Emax : [3446. 5845. 4061. 4343. 4295. 4774. 3377. 3342. 3411. 4191. 4404. 4917.\n",
      " 6381. 5686. 5245. 3318. 3251. 3311. 4876. 5317.]\n",
      "transition_dN_dE : [[0.00000e+00 0.00000e+00 0.00000e+00 ... 0.00000e+00 0.00000e+00\n",
      "  0.00000e+00]\n",
      " [0.00000e+00 1.68531e-11 5.51738e-11 ... 0.00000e+00 0.00000e+00\n",
      "  0.00000e+00]\n",
      " [0.00000e+00 5.02934e-12 1.74081e-11 ... 0.00000e+00 0.00000e+00\n",
      "  0.00000e+00]\n",
      " ...\n",
      " [0.00000e+00 5.08582e-12 1.80665e-11 ... 0.00000e+00 0.00000e+00\n",
      "  0.00000e+00]\n",
      " [0.00000e+00 9.31542e-12 3.12117e-11 ... 0.00000e+00 0.00000e+00\n",
      "  0.00000e+00]\n",
      " [0.00000e+00 7.85789e-12 2.61302e-11 ... 0.00000e+00 0.00000e+00\n",
      "  0.00000e+00]]\n",
      "transition_intensity : [0.003  0.105  0.013  0.047  0.072  0.008  0.001  0.0006 0.019  0.015\n",
      " 0.008  0.033  0.5    0.082  0.003  0.006  0.003  0.008  0.037  0.039 ]\n",
      "transition_type : [b'2u' b'a' b'a' b'a' b'a' b'a' b'1u' b'2u' b'2u' b'a' b'a' b'a' b'a' b'a'\n",
      " b'2u' b'a' b'a' b'a' b'a' b'a']\n",
      "transition_unc_dN_dE : [[0.00000e+00 0.00000e+00 0.00000e+00 ... 0.00000e+00 0.00000e+00\n",
      "  0.00000e+00]\n",
      " [0.00000e+00 9.88121e-14 3.18053e-13 ... 0.00000e+00 0.00000e+00\n",
      "  0.00000e+00]\n",
      " [0.00000e+00 4.08022e-14 1.39290e-13 ... 0.00000e+00 0.00000e+00\n",
      "  0.00000e+00]\n",
      " ...\n",
      " [0.00000e+00 4.70062e-14 1.64712e-13 ... 0.00000e+00 0.00000e+00\n",
      "  0.00000e+00]\n",
      " [0.00000e+00 6.08697e-14 2.00602e-13 ... 0.00000e+00 0.00000e+00\n",
      "  0.00000e+00]\n",
      " [0.00000e+00 4.74245e-14 1.55087e-13 ... 0.00000e+00 0.00000e+00\n",
      "  0.00000e+00]]\n",
      "transition_unc_intensity : [ 3  1 13  7 12  8  1  6 19 15  8  7  7 12  3  6  3  8  6  9]\n",
      "unc_dN_dE : [0.00000000e+00 4.50212670e-13 1.45788117e-12 ... 2.63113000e-07\n",
      " 2.53724000e-07 2.44040000e-07]\n",
      "lazy_name : 100Nb\n"
     ]
    }
   ],
   "source": [
    "# To get a single nuclide information as a python dictionary, you can use it's name\n",
    "\n",
    "nuclide = reader.get_nuclide(name=\"100Nb\")\n",
    "\n",
    "# Or you can use specify it's position in the file\n",
    "print(\"Position of the 100Nb:\", np.where(np.array(nuclides_name)==\"100Nb\")[0][0])\n",
    "\n",
    "#nuclide = reader.get_nuclide(loc=1) # gives the same output\n",
    "\n",
    "for key, value in nuclide.items():\n",
    "    print(key , \":\",value)"
   ]
  },
  {
   "cell_type": "code",
   "execution_count": 8,
   "id": "82ec8a3f",
   "metadata": {
    "hidden": true
   },
   "outputs": [
    {
     "data": {
      "text/plain": [
       "['Emax',\n",
       " 'Q',\n",
       " 'cumulative_fast_fy_235u',\n",
       " 'cumulative_fast_fy_238u',\n",
       " 'cumulative_fast_fy_241Pu',\n",
       " 'cumulative_thermal_fy_235u',\n",
       " 'cumulative_thermal_fy_239Pu',\n",
       " 'cumulative_thermal_fy_241Pu',\n",
       " 'half_life_sec',\n",
       " 'm',\n",
       " 'n',\n",
       " 'tag',\n",
       " 'unc_Q',\n",
       " 'unc_cf_235u',\n",
       " 'unc_cf_238u',\n",
       " 'unc_cf_241Pu',\n",
       " 'unc_ct_235u',\n",
       " 'unc_ct_239Pu',\n",
       " 'unc_ct_241Pu',\n",
       " 'z']"
      ]
     },
     "execution_count": 8,
     "metadata": {},
     "output_type": "execute_result"
    }
   ],
   "source": [
    "# To see the parameters names for each nuclide\n",
    "reader.get_parameters_labels()"
   ]
  },
  {
   "cell_type": "code",
   "execution_count": 9,
   "id": "2edcfdc3",
   "metadata": {
    "hidden": true
   },
   "outputs": [],
   "source": [
    "# To get the value of the selected parameter (e.g. Emax) for all the nuclides in the dataset as a numpy array\n",
    "# If the parameter is not found for a given nuclides, *variable_not_found* is used instead\n",
    "\n",
    "Emax = reader.get_parameters(\"Emax\",variable_not_found = -1)\n"
   ]
  },
  {
   "cell_type": "code",
   "execution_count": 10,
   "id": "af4c7fb1",
   "metadata": {
    "hidden": true
   },
   "outputs": [
    {
     "name": "stdout",
     "output_type": "stream",
     "text": [
      "['100Rb' '106Y' '110Nb' '116Tc' '128Ag' '12B' '130Ag' '131Cd' '131In_2m'\n",
      " '132Cd' '132In' '54Sc' '60V' '62V' '65Cr' '66Mn' '68Mn' '70Co' '70Co_1m'\n",
      " '72Co' '73Co' '74Co' '77Ni' '78Cu' '82Ga' '84Ga' '84Ga_1m' '85Ga' '8Li'\n",
      " '92Br' '98Rb' '98Rb_1m' '9Li']\n"
     ]
    }
   ],
   "source": [
    "#=============================================\n",
    "# Example: print the name of all the nuclides name with a Q-value greater than 12e3 keV\n",
    "#=============================================\n",
    "Qs = reader.get_parameters(\"Q\")\n",
    "index = np.where(Qs>=12e3)[0]\n",
    "print( np.array(nuclides_name)[index] )"
   ]
  },
  {
   "cell_type": "code",
   "execution_count": 11,
   "id": "b3ca3fd9",
   "metadata": {
    "hidden": true
   },
   "outputs": [
    {
     "data": {
      "image/png": "[encoded data removed]",
      "text/plain": [
       "<Figure size 432x288 with 1 Axes>"
      ]
     },
     "metadata": {
      "needs_background": "light"
     },
     "output_type": "display_data"
    }
   ],
   "source": [
    "#=============================================\n",
    "# Example: plot the Q value vs mass number for all the nuclide in the dataset\n",
    "#=============================================\n",
    "Qs = reader.get_parameters(\"Q\")\n",
    "z = reader.get_parameters(\"z\")\n",
    "n = reader.get_parameters(\"n\")\n",
    "\n",
    "\n",
    "a = z + n\n",
    "\n",
    "plt.plot(a,Qs,'.',c='k')\n",
    "plt.yscale(\"log\")\n",
    "plt.xlim(-2)\n",
    "plt.xlabel(\"Atomic mass\")\n",
    "plt.ylabel(\"Q-value (keV)\")\n",
    "plt.show()"
   ]
  },
  {
   "cell_type": "code",
   "execution_count": 41,
   "id": "a6b7196d",
   "metadata": {
    "hidden": true
   },
   "outputs": [],
   "source": [
    "# Return the neutrino spectra of the nuclides in the dataset with their uncertanties\n",
    "# Keep in mind that not all the nuclide in the dataset will have an associated neutrino spectra.\n",
    "# See \"how is compiled\" for more details.\n",
    "# Read the helper for additional information (reader.get_nu_spectra?)\n",
    "energy, spectra, spectra_er, posOK, posnotOK = reader.get_nu_spectra(E_min =0 , E_max = 10e3)"
   ]
  },
  {
   "cell_type": "code",
   "execution_count": 42,
   "id": "fcce9a9c",
   "metadata": {
    "hidden": true
   },
   "outputs": [
    {
     "name": "stdout",
     "output_type": "stream",
     "text": [
      "There are 351  nuclides without a neutrino spectra\n",
      "The first 6 are:\n",
      "100Mo\n",
      "100Ru\n",
      "101Ru\n",
      "102Ru\n",
      "103Rh\n",
      "103Rh_1m\n"
     ]
    }
   ],
   "source": [
    "#=============================================\n",
    "# Example: print the first 6 names of nuclides which do not have an associated neutrino spectrum\n",
    "#=============================================\n",
    "print(\"There are\",posnotOK.shape[0],\" nuclides without a neutrino spectra\")\n",
    "print(\"The first 6 are:\")\n",
    "for el in np.array(nuclides_name)[posnotOK[:6]]:\n",
    "    print(el)"
   ]
  },
  {
   "cell_type": "code",
   "execution_count": 43,
   "id": "8075988b",
   "metadata": {
    "hidden": true
   },
   "outputs": [],
   "source": [
    "# Return the neutrino spectrum from reactors given certain fission fractions\n",
    "# Read the helper for additional information (reader.get_total_spectrum?)\n",
    "ff235 = 0.5\n",
    "ff239 = 0.2\n",
    "ff241 = 0.2\n",
    "ff238 = 0.1\n",
    "\n",
    "\n",
    "ffs = [ff235,ff239,ff241,ff238]\n",
    "labels=[\"cumulative_thermal_fy_235u\",\"cumulative_thermal_fy_239Pu\",\"cumulative_thermal_fy_241Pu\",\"cumulative_fast_fy_238u\"]\n",
    "labels_unc=[\"unc_ct_235u\",\"unc_ct_239Pu\",\"unc_ct_241Pu\",\"unc_cf_238u\"]\n",
    "\n",
    "\n",
    "spectrum_tot, spectrum_tot_er = reader.get_total_spectrum(labels = labels, labels_unc = labels_unc,\n",
    "                                                          ffs = ffs, ffs_unc = None, do_sum = True,\n",
    "                                                          spectra=spectra,spectra_er=spectra_er,posOK=posOK)"
   ]
  },
  {
   "cell_type": "code",
   "execution_count": 44,
   "id": "c5c77e69",
   "metadata": {
    "hidden": true
   },
   "outputs": [
    {
     "data": {
      "image/png": "[encoded data removed]",
      "text/plain": [
       "<Figure size 432x288 with 1 Axes>"
      ]
     },
     "metadata": {
      "needs_background": "light"
     },
     "output_type": "display_data"
    }
   ],
   "source": [
    "plt.plot(energy,spectrum_tot,c='g')\n",
    "plt.fill_between(energy,spectrum_tot,spectrum_tot+spectrum_tot_er,color='g',alpha=0.4)\n",
    "plt.fill_between(energy,spectrum_tot,spectrum_tot-spectrum_tot_er,color='g',alpha=0.4)\n",
    "\n",
    "plt.xlabel(\"Energy (keV)\")\n",
    "plt.ylabel(r\"$\\bar{\\nu}_e$ flux\")\n",
    "plt.show()"
   ]
  },
  {
   "cell_type": "code",
   "execution_count": 45,
   "id": "c892dbbe",
   "metadata": {
    "hidden": true
   },
   "outputs": [
    {
     "data": {
      "image/png": "[encoded data removed]",
      "text/plain": [
       "<Figure size 432x288 with 1 Axes>"
      ]
     },
     "metadata": {
      "needs_background": "light"
     },
     "output_type": "display_data"
    }
   ],
   "source": [
    "#=============================================\n",
    "# Example: plot the neutrino flux from Pu239\n",
    "#=============================================\n",
    "\n",
    "spectrum_tot, spectrum_tot_er = reader.get_total_spectrum(labels = [\"cumulative_thermal_fy_239Pu\"], \n",
    "                                                          labels_unc = [\"unc_ct_239Pu\"],\n",
    "                                                          ffs = [1], ffs_unc = None, do_sum = True,\n",
    "                                                          spectra=spectra,spectra_er=spectra_er,posOK=posOK)\n",
    "\n",
    "plt.plot(energy,spectrum_tot,c='r')\n",
    "plt.fill_between(energy,spectrum_tot,spectrum_tot+spectrum_tot_er,color='r',alpha=0.4)\n",
    "plt.fill_between(energy,spectrum_tot,spectrum_tot-spectrum_tot_er,color='r',alpha=0.4)\n",
    "\n",
    "plt.xlabel(\"Energy (keV)\")\n",
    "plt.ylabel(r\"$\\bar{\\nu}_e$ flux\")\n",
    "plt.show()"
   ]
  },
  {
   "cell_type": "markdown",
   "id": "15b7f834",
   "metadata": {
    "heading_collapsed": true
   },
   "source": [
    "# RenShape writer"
   ]
  },
  {
   "cell_type": "code",
   "execution_count": 48,
   "id": "7b9e1b2b",
   "metadata": {
    "hidden": true
   },
   "outputs": [],
   "source": [
    "path = \"\" #path for the .lazy file\n",
    "\n",
    "writer =lazy_handler.LazyWriter(fname=path)"
   ]
  },
  {
   "cell_type": "markdown",
   "id": "e10f75bd",
   "metadata": {
    "hidden": true
   },
   "source": [
    "For all writer methods, if a variable already exists, it will be redefined."
   ]
  },
  {
   "cell_type": "code",
   "execution_count": null,
   "id": "60bfe9ac",
   "metadata": {
    "hidden": true
   },
   "outputs": [],
   "source": [
    "# Add information on the file header as a python dictionary\n",
    "writer.set_general_info({\"random_name\":0.2})"
   ]
  },
  {
   "cell_type": "code",
   "execution_count": null,
   "id": "b13be370",
   "metadata": {
    "hidden": true
   },
   "outputs": [],
   "source": [
    "# Add a parameter to a given nuclide. If the nuclide does not exist, it will be added to the dataset.\n",
    "# For adding a parameter to the info block as a dictionary...\n",
    "writer.write_nuclide_data(nuclide_name=\"100Xy\",dtype=\"info\", dictionary={\"random_name\":2,\"dummy_variable\":\"bello\"})\n",
    "# or as a variable...\n",
    "writer.write_nuclide_data(nuclide_name=\"100Xy\",dtype=\"info\", vname = \"dummy\",vvalue=12)\n",
    "\n",
    "\n",
    "# You can add a parameter to the data block instead by replecing dytpe = \"info\" with dytpe = \"data\""
   ]
  },
  {
   "cell_type": "markdown",
   "id": "6f842cfd",
   "metadata": {
    "heading_collapsed": true
   },
   "source": [
    "# Exercises"
   ]
  },
  {
   "cell_type": "markdown",
   "id": "ab7bd89a",
   "metadata": {
    "hidden": true
   },
   "source": [
    "To get familiar with RenShape, the following exercises are suggested. They are listed in increasing order of difficulty:\n",
    "\n",
    "    - Plot the Q vs atomic mass for the nuclides w/o an associated spectrum.\n",
    "    - Plot the neutrino spectrum of 235U using the continuum spectra for 100Rb instead of the one from ENSDF.\n",
    "    - Try to recreate a plot similar the one in notebook/ex.pdf"
   ]
  }
 ],
 "metadata": {
  "kernelspec": {
   "display_name": "Python 3",
   "language": "python",
   "name": "python3"
  },
  "language_info": {
   "codemirror_mode": {
    "name": "ipython",
    "version": 3
   },
   "file_extension": ".py",
   "mimetype": "text/x-python",
   "name": "python",
   "nbconvert_exporter": "python",
   "pygments_lexer": "ipython3",
   "version": "3.8.10"
  },
  "toc": {
   "base_numbering": 1,
   "nav_menu": {},
   "number_sections": true,
   "sideBar": true,
   "skip_h1_title": false,
   "title_cell": "Table of Contents",
   "title_sidebar": "Contents",
   "toc_cell": false,
   "toc_position": {
    "height": "calc(100% - 180px)",
    "left": "10px",
    "top": "150px",
    "width": "296.167px"
   },
   "toc_section_display": true,
   "toc_window_display": true
  }
 },
 "nbformat": 4,
 "nbformat_minor": 5
}
